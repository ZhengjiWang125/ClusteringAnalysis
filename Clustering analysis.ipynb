{
 "cells": [
  {
   "cell_type": "code",
   "execution_count": 16,
   "id": "a1c45cb6",
   "metadata": {},
   "outputs": [],
   "source": [
    "import numpy as np\n",
    "import pandas as pd\n",
    "import datetime\n",
    "import matplotlib\n",
    "import matplotlib.pyplot as plt\n",
    "from matplotlib import colors\n",
    "import seaborn as sns\n",
    "from sklearn.preprocessing import LabelEncoder\n",
    "from sklearn.preprocessing import StandardScaler\n",
    "from sklearn.preprocessing import MinMaxScaler,OneHotEncoder \n",
    "from sklearn.decomposition import PCA\n",
    "from sklearn import preprocessing \n",
    "from yellowbrick.cluster import KElbowVisualizer\n",
    "from sklearn.cluster import KMeans\n",
    "import matplotlib.pyplot as plt, numpy as np\n",
    "from mpl_toolkits.mplot3d import Axes3D\n",
    "from sklearn.cluster import AgglomerativeClustering\n",
    "from matplotlib.colors import ListedColormap\n",
    "from sklearn import metrics\n",
    "from sklearn import cluster"
   ]
  },
  {
   "cell_type": "code",
   "execution_count": 17,
   "id": "db1e1a28",
   "metadata": {},
   "outputs": [],
   "source": [
    "df = pd.read_csv('3_data_2022062.csv')"
   ]
  },
  {
   "cell_type": "code",
   "execution_count": 18,
   "id": "3d027564",
   "metadata": {},
   "outputs": [
    {
     "data": {
      "text/html": [
       "<div>\n",
       "<style scoped>\n",
       "    .dataframe tbody tr th:only-of-type {\n",
       "        vertical-align: middle;\n",
       "    }\n",
       "\n",
       "    .dataframe tbody tr th {\n",
       "        vertical-align: top;\n",
       "    }\n",
       "\n",
       "    .dataframe thead th {\n",
       "        text-align: right;\n",
       "    }\n",
       "</style>\n",
       "<table border=\"1\" class=\"dataframe\">\n",
       "  <thead>\n",
       "    <tr style=\"text-align: right;\">\n",
       "      <th></th>\n",
       "      <th>Visitor Type</th>\n",
       "      <th>Month</th>\n",
       "      <th>Duration of product-related page visits</th>\n",
       "      <th>Information related page</th>\n",
       "      <th>User related page</th>\n",
       "      <th>Duration of Information related page visits</th>\n",
       "      <th>Exit Rate</th>\n",
       "      <th>Bounce Rate</th>\n",
       "      <th>Product related page</th>\n",
       "      <th>Web page value</th>\n",
       "      <th>Operating System</th>\n",
       "      <th>Weekend</th>\n",
       "      <th>Browser</th>\n",
       "      <th>Duration of User related page visits</th>\n",
       "      <th>Section</th>\n",
       "      <th>Traffic Model</th>\n",
       "      <th>Holidays</th>\n",
       "      <th>Whether or not to buy</th>\n",
       "    </tr>\n",
       "  </thead>\n",
       "  <tbody>\n",
       "    <tr>\n",
       "      <th>0</th>\n",
       "      <td>Returning_Visitor</td>\n",
       "      <td>Dec</td>\n",
       "      <td>556.916667</td>\n",
       "      <td>0</td>\n",
       "      <td>0</td>\n",
       "      <td>0.000000</td>\n",
       "      <td>0.022436</td>\n",
       "      <td>0.010256</td>\n",
       "      <td>26</td>\n",
       "      <td>0.0</td>\n",
       "      <td>4</td>\n",
       "      <td>False</td>\n",
       "      <td>2</td>\n",
       "      <td>0.00</td>\n",
       "      <td>1</td>\n",
       "      <td>8</td>\n",
       "      <td>0.0</td>\n",
       "      <td>0</td>\n",
       "    </tr>\n",
       "    <tr>\n",
       "      <th>1</th>\n",
       "      <td>Returning_Visitor</td>\n",
       "      <td>Dec</td>\n",
       "      <td>2348.812500</td>\n",
       "      <td>5</td>\n",
       "      <td>0</td>\n",
       "      <td>39.833333</td>\n",
       "      <td>0.055167</td>\n",
       "      <td>0.020000</td>\n",
       "      <td>34</td>\n",
       "      <td>0.0</td>\n",
       "      <td>2</td>\n",
       "      <td>False</td>\n",
       "      <td>2</td>\n",
       "      <td>0.00</td>\n",
       "      <td>3</td>\n",
       "      <td>1</td>\n",
       "      <td>0.0</td>\n",
       "      <td>0</td>\n",
       "    </tr>\n",
       "    <tr>\n",
       "      <th>2</th>\n",
       "      <td>New_Visitor</td>\n",
       "      <td>June</td>\n",
       "      <td>1570.133333</td>\n",
       "      <td>6</td>\n",
       "      <td>0</td>\n",
       "      <td>89.800000</td>\n",
       "      <td>0.005357</td>\n",
       "      <td>0.000000</td>\n",
       "      <td>26</td>\n",
       "      <td>0.0</td>\n",
       "      <td>2</td>\n",
       "      <td>True</td>\n",
       "      <td>2</td>\n",
       "      <td>0.00</td>\n",
       "      <td>8</td>\n",
       "      <td>4</td>\n",
       "      <td>0.0</td>\n",
       "      <td>0</td>\n",
       "    </tr>\n",
       "    <tr>\n",
       "      <th>3</th>\n",
       "      <td>Returning_Visitor</td>\n",
       "      <td>Dec</td>\n",
       "      <td>821.682540</td>\n",
       "      <td>4</td>\n",
       "      <td>2</td>\n",
       "      <td>159.000000</td>\n",
       "      <td>0.019343</td>\n",
       "      <td>0.000617</td>\n",
       "      <td>33</td>\n",
       "      <td>0.0</td>\n",
       "      <td>2</td>\n",
       "      <td>False</td>\n",
       "      <td>2</td>\n",
       "      <td>27.75</td>\n",
       "      <td>1</td>\n",
       "      <td>2</td>\n",
       "      <td>0.0</td>\n",
       "      <td>1</td>\n",
       "    </tr>\n",
       "    <tr>\n",
       "      <th>4</th>\n",
       "      <td>Returning_Visitor</td>\n",
       "      <td>Jul</td>\n",
       "      <td>584.377778</td>\n",
       "      <td>5</td>\n",
       "      <td>2</td>\n",
       "      <td>38.577778</td>\n",
       "      <td>0.064352</td>\n",
       "      <td>0.000000</td>\n",
       "      <td>7</td>\n",
       "      <td>0.0</td>\n",
       "      <td>1</td>\n",
       "      <td>True</td>\n",
       "      <td>1</td>\n",
       "      <td>9.00</td>\n",
       "      <td>1</td>\n",
       "      <td>2</td>\n",
       "      <td>0.0</td>\n",
       "      <td>1</td>\n",
       "    </tr>\n",
       "  </tbody>\n",
       "</table>\n",
       "</div>"
      ],
      "text/plain": [
       "        Visitor Type Month  Duration of product-related page visits  \\\n",
       "0  Returning_Visitor   Dec                               556.916667   \n",
       "1  Returning_Visitor   Dec                              2348.812500   \n",
       "2        New_Visitor  June                              1570.133333   \n",
       "3  Returning_Visitor   Dec                               821.682540   \n",
       "4  Returning_Visitor   Jul                               584.377778   \n",
       "\n",
       "   Information related page  User related page  \\\n",
       "0                         0                  0   \n",
       "1                         5                  0   \n",
       "2                         6                  0   \n",
       "3                         4                  2   \n",
       "4                         5                  2   \n",
       "\n",
       "   Duration of Information related page visits  Exit Rate  Bounce Rate  \\\n",
       "0                                     0.000000   0.022436     0.010256   \n",
       "1                                    39.833333   0.055167     0.020000   \n",
       "2                                    89.800000   0.005357     0.000000   \n",
       "3                                   159.000000   0.019343     0.000617   \n",
       "4                                    38.577778   0.064352     0.000000   \n",
       "\n",
       "   Product related page  Web page value  Operating System  Weekend  Browser  \\\n",
       "0                    26             0.0                 4    False        2   \n",
       "1                    34             0.0                 2    False        2   \n",
       "2                    26             0.0                 2     True        2   \n",
       "3                    33             0.0                 2    False        2   \n",
       "4                     7             0.0                 1     True        1   \n",
       "\n",
       "   Duration of User related page visits  Section  Traffic Model  Holidays  \\\n",
       "0                                  0.00        1              8       0.0   \n",
       "1                                  0.00        3              1       0.0   \n",
       "2                                  0.00        8              4       0.0   \n",
       "3                                 27.75        1              2       0.0   \n",
       "4                                  9.00        1              2       0.0   \n",
       "\n",
       "   Whether or not to buy  \n",
       "0                      0  \n",
       "1                      0  \n",
       "2                      0  \n",
       "3                      1  \n",
       "4                      1  "
      ]
     },
     "execution_count": 18,
     "metadata": {},
     "output_type": "execute_result"
    }
   ],
   "source": [
    "df.head()"
   ]
  },
  {
   "cell_type": "code",
   "execution_count": 19,
   "id": "b23059cd",
   "metadata": {},
   "outputs": [
    {
     "data": {
      "text/plain": [
       "Index(['Visitor Type', 'Month', 'Duration of product-related page visits',\n",
       "       'Information related page', 'User related page',\n",
       "       'Duration of Information related page visits', 'Exit Rate',\n",
       "       'Bounce Rate', 'Product related page', 'Web page value',\n",
       "       'Operating System', 'Weekend', 'Browser',\n",
       "       'Duration of User related page visits', 'Section', 'Traffic Model',\n",
       "       'Holidays', 'Whether or not to buy'],\n",
       "      dtype='object')"
      ]
     },
     "execution_count": 19,
     "metadata": {},
     "output_type": "execute_result"
    }
   ],
   "source": [
    "df.columns"
   ]
  },
  {
   "cell_type": "code",
   "execution_count": 20,
   "id": "6196b137",
   "metadata": {},
   "outputs": [],
   "source": [
    "df = df[[\"Visitor Type\",\"Duration of product-related page visits\",\"Duration of Information related page visits\",\"Duration of User related page visits\",'Exit Rate','Bounce Rate',\"Whether or not to buy\"]]"
   ]
  },
  {
   "cell_type": "code",
   "execution_count": 21,
   "id": "47c86e52",
   "metadata": {},
   "outputs": [
    {
     "data": {
      "text/html": [
       "<div>\n",
       "<style scoped>\n",
       "    .dataframe tbody tr th:only-of-type {\n",
       "        vertical-align: middle;\n",
       "    }\n",
       "\n",
       "    .dataframe tbody tr th {\n",
       "        vertical-align: top;\n",
       "    }\n",
       "\n",
       "    .dataframe thead th {\n",
       "        text-align: right;\n",
       "    }\n",
       "</style>\n",
       "<table border=\"1\" class=\"dataframe\">\n",
       "  <thead>\n",
       "    <tr style=\"text-align: right;\">\n",
       "      <th></th>\n",
       "      <th>Visitor Type</th>\n",
       "      <th>Duration of product-related page visits</th>\n",
       "      <th>Duration of Information related page visits</th>\n",
       "      <th>Duration of User related page visits</th>\n",
       "      <th>Exit Rate</th>\n",
       "      <th>Bounce Rate</th>\n",
       "      <th>Whether or not to buy</th>\n",
       "    </tr>\n",
       "  </thead>\n",
       "  <tbody>\n",
       "    <tr>\n",
       "      <th>0</th>\n",
       "      <td>Returning_Visitor</td>\n",
       "      <td>556.916667</td>\n",
       "      <td>0.000000</td>\n",
       "      <td>0.00</td>\n",
       "      <td>0.022436</td>\n",
       "      <td>0.010256</td>\n",
       "      <td>0</td>\n",
       "    </tr>\n",
       "    <tr>\n",
       "      <th>1</th>\n",
       "      <td>Returning_Visitor</td>\n",
       "      <td>2348.812500</td>\n",
       "      <td>39.833333</td>\n",
       "      <td>0.00</td>\n",
       "      <td>0.055167</td>\n",
       "      <td>0.020000</td>\n",
       "      <td>0</td>\n",
       "    </tr>\n",
       "    <tr>\n",
       "      <th>2</th>\n",
       "      <td>New_Visitor</td>\n",
       "      <td>1570.133333</td>\n",
       "      <td>89.800000</td>\n",
       "      <td>0.00</td>\n",
       "      <td>0.005357</td>\n",
       "      <td>0.000000</td>\n",
       "      <td>0</td>\n",
       "    </tr>\n",
       "    <tr>\n",
       "      <th>3</th>\n",
       "      <td>Returning_Visitor</td>\n",
       "      <td>821.682540</td>\n",
       "      <td>159.000000</td>\n",
       "      <td>27.75</td>\n",
       "      <td>0.019343</td>\n",
       "      <td>0.000617</td>\n",
       "      <td>1</td>\n",
       "    </tr>\n",
       "    <tr>\n",
       "      <th>4</th>\n",
       "      <td>Returning_Visitor</td>\n",
       "      <td>584.377778</td>\n",
       "      <td>38.577778</td>\n",
       "      <td>9.00</td>\n",
       "      <td>0.064352</td>\n",
       "      <td>0.000000</td>\n",
       "      <td>1</td>\n",
       "    </tr>\n",
       "    <tr>\n",
       "      <th>...</th>\n",
       "      <td>...</td>\n",
       "      <td>...</td>\n",
       "      <td>...</td>\n",
       "      <td>...</td>\n",
       "      <td>...</td>\n",
       "      <td>...</td>\n",
       "      <td>...</td>\n",
       "    </tr>\n",
       "    <tr>\n",
       "      <th>8626</th>\n",
       "      <td>Returning_Visitor</td>\n",
       "      <td>402.500000</td>\n",
       "      <td>31.500000</td>\n",
       "      <td>0.00</td>\n",
       "      <td>0.002500</td>\n",
       "      <td>0.000000</td>\n",
       "      <td>0</td>\n",
       "    </tr>\n",
       "    <tr>\n",
       "      <th>8627</th>\n",
       "      <td>Returning_Visitor</td>\n",
       "      <td>2110.255093</td>\n",
       "      <td>265.433333</td>\n",
       "      <td>35.70</td>\n",
       "      <td>0.009762</td>\n",
       "      <td>0.003614</td>\n",
       "      <td>0</td>\n",
       "    </tr>\n",
       "    <tr>\n",
       "      <th>8628</th>\n",
       "      <td>Returning_Visitor</td>\n",
       "      <td>3038.380000</td>\n",
       "      <td>0.000000</td>\n",
       "      <td>0.00</td>\n",
       "      <td>0.038333</td>\n",
       "      <td>0.017535</td>\n",
       "      <td>0</td>\n",
       "    </tr>\n",
       "    <tr>\n",
       "      <th>8629</th>\n",
       "      <td>Returning_Visitor</td>\n",
       "      <td>2949.550000</td>\n",
       "      <td>32.750000</td>\n",
       "      <td>11.00</td>\n",
       "      <td>0.027165</td>\n",
       "      <td>0.015909</td>\n",
       "      <td>0</td>\n",
       "    </tr>\n",
       "    <tr>\n",
       "      <th>8630</th>\n",
       "      <td>Returning_Visitor</td>\n",
       "      <td>4817.369546</td>\n",
       "      <td>334.166667</td>\n",
       "      <td>34.00</td>\n",
       "      <td>0.009553</td>\n",
       "      <td>0.002685</td>\n",
       "      <td>0</td>\n",
       "    </tr>\n",
       "  </tbody>\n",
       "</table>\n",
       "<p>8631 rows × 7 columns</p>\n",
       "</div>"
      ],
      "text/plain": [
       "           Visitor Type  Duration of product-related page visits  \\\n",
       "0     Returning_Visitor                               556.916667   \n",
       "1     Returning_Visitor                              2348.812500   \n",
       "2           New_Visitor                              1570.133333   \n",
       "3     Returning_Visitor                               821.682540   \n",
       "4     Returning_Visitor                               584.377778   \n",
       "...                 ...                                      ...   \n",
       "8626  Returning_Visitor                               402.500000   \n",
       "8627  Returning_Visitor                              2110.255093   \n",
       "8628  Returning_Visitor                              3038.380000   \n",
       "8629  Returning_Visitor                              2949.550000   \n",
       "8630  Returning_Visitor                              4817.369546   \n",
       "\n",
       "      Duration of Information related page visits  \\\n",
       "0                                        0.000000   \n",
       "1                                       39.833333   \n",
       "2                                       89.800000   \n",
       "3                                      159.000000   \n",
       "4                                       38.577778   \n",
       "...                                           ...   \n",
       "8626                                    31.500000   \n",
       "8627                                   265.433333   \n",
       "8628                                     0.000000   \n",
       "8629                                    32.750000   \n",
       "8630                                   334.166667   \n",
       "\n",
       "      Duration of User related page visits  Exit Rate  Bounce Rate  \\\n",
       "0                                     0.00   0.022436     0.010256   \n",
       "1                                     0.00   0.055167     0.020000   \n",
       "2                                     0.00   0.005357     0.000000   \n",
       "3                                    27.75   0.019343     0.000617   \n",
       "4                                     9.00   0.064352     0.000000   \n",
       "...                                    ...        ...          ...   \n",
       "8626                                  0.00   0.002500     0.000000   \n",
       "8627                                 35.70   0.009762     0.003614   \n",
       "8628                                  0.00   0.038333     0.017535   \n",
       "8629                                 11.00   0.027165     0.015909   \n",
       "8630                                 34.00   0.009553     0.002685   \n",
       "\n",
       "      Whether or not to buy  \n",
       "0                         0  \n",
       "1                         0  \n",
       "2                         0  \n",
       "3                         1  \n",
       "4                         1  \n",
       "...                     ...  \n",
       "8626                      0  \n",
       "8627                      0  \n",
       "8628                      0  \n",
       "8629                      0  \n",
       "8630                      0  \n",
       "\n",
       "[8631 rows x 7 columns]"
      ]
     },
     "execution_count": 21,
     "metadata": {},
     "output_type": "execute_result"
    }
   ],
   "source": [
    "df"
   ]
  },
  {
   "cell_type": "markdown",
   "id": "0e314d3b",
   "metadata": {},
   "source": [
    "## 1. 检查遗漏数据"
   ]
  },
  {
   "cell_type": "code",
   "execution_count": 22,
   "id": "a41cadfe",
   "metadata": {},
   "outputs": [
    {
     "data": {
      "text/plain": [
       "Visitor Type                                   False\n",
       "Duration of product-related page visits        False\n",
       "Duration of Information related page visits    False\n",
       "Duration of User related page visits           False\n",
       "Exit Rate                                      False\n",
       "Bounce Rate                                    False\n",
       "Whether or not to buy                          False\n",
       "dtype: bool"
      ]
     },
     "execution_count": 22,
     "metadata": {},
     "output_type": "execute_result"
    }
   ],
   "source": [
    "na_cols = df.isnull().any(axis = 0)\n",
    "na_cols"
   ]
  },
  {
   "cell_type": "markdown",
   "id": "82f58372",
   "metadata": {},
   "source": [
    "## 2 数据清理"
   ]
  },
  {
   "cell_type": "code",
   "execution_count": 23,
   "id": "8d7dd476",
   "metadata": {},
   "outputs": [],
   "source": [
    "corr =df.corr().round(2)"
   ]
  },
  {
   "cell_type": "code",
   "execution_count": 24,
   "id": "dad5402f",
   "metadata": {},
   "outputs": [
    {
     "data": {
      "text/html": [
       "<div>\n",
       "<style scoped>\n",
       "    .dataframe tbody tr th:only-of-type {\n",
       "        vertical-align: middle;\n",
       "    }\n",
       "\n",
       "    .dataframe tbody tr th {\n",
       "        vertical-align: top;\n",
       "    }\n",
       "\n",
       "    .dataframe thead th {\n",
       "        text-align: right;\n",
       "    }\n",
       "</style>\n",
       "<table border=\"1\" class=\"dataframe\">\n",
       "  <thead>\n",
       "    <tr style=\"text-align: right;\">\n",
       "      <th></th>\n",
       "      <th>Duration of product-related page visits</th>\n",
       "      <th>Duration of Information related page visits</th>\n",
       "      <th>Duration of User related page visits</th>\n",
       "      <th>Exit Rate</th>\n",
       "      <th>Bounce Rate</th>\n",
       "      <th>Whether or not to buy</th>\n",
       "    </tr>\n",
       "  </thead>\n",
       "  <tbody>\n",
       "    <tr>\n",
       "      <th>Duration of product-related page visits</th>\n",
       "      <td>1.00</td>\n",
       "      <td>0.37</td>\n",
       "      <td>0.35</td>\n",
       "      <td>-0.25</td>\n",
       "      <td>-0.18</td>\n",
       "      <td>0.14</td>\n",
       "    </tr>\n",
       "    <tr>\n",
       "      <th>Duration of Information related page visits</th>\n",
       "      <td>0.37</td>\n",
       "      <td>1.00</td>\n",
       "      <td>0.23</td>\n",
       "      <td>-0.21</td>\n",
       "      <td>-0.14</td>\n",
       "      <td>0.10</td>\n",
       "    </tr>\n",
       "    <tr>\n",
       "      <th>Duration of User related page visits</th>\n",
       "      <td>0.35</td>\n",
       "      <td>0.23</td>\n",
       "      <td>1.00</td>\n",
       "      <td>-0.10</td>\n",
       "      <td>-0.07</td>\n",
       "      <td>0.07</td>\n",
       "    </tr>\n",
       "    <tr>\n",
       "      <th>Exit Rate</th>\n",
       "      <td>-0.25</td>\n",
       "      <td>-0.21</td>\n",
       "      <td>-0.10</td>\n",
       "      <td>1.00</td>\n",
       "      <td>0.91</td>\n",
       "      <td>-0.21</td>\n",
       "    </tr>\n",
       "    <tr>\n",
       "      <th>Bounce Rate</th>\n",
       "      <td>-0.18</td>\n",
       "      <td>-0.14</td>\n",
       "      <td>-0.07</td>\n",
       "      <td>0.91</td>\n",
       "      <td>1.00</td>\n",
       "      <td>-0.15</td>\n",
       "    </tr>\n",
       "    <tr>\n",
       "      <th>Whether or not to buy</th>\n",
       "      <td>0.14</td>\n",
       "      <td>0.10</td>\n",
       "      <td>0.07</td>\n",
       "      <td>-0.21</td>\n",
       "      <td>-0.15</td>\n",
       "      <td>1.00</td>\n",
       "    </tr>\n",
       "  </tbody>\n",
       "</table>\n",
       "</div>"
      ],
      "text/plain": [
       "                                             Duration of product-related page visits  \\\n",
       "Duration of product-related page visits                                         1.00   \n",
       "Duration of Information related page visits                                     0.37   \n",
       "Duration of User related page visits                                            0.35   \n",
       "Exit Rate                                                                      -0.25   \n",
       "Bounce Rate                                                                    -0.18   \n",
       "Whether or not to buy                                                           0.14   \n",
       "\n",
       "                                             Duration of Information related page visits  \\\n",
       "Duration of product-related page visits                                             0.37   \n",
       "Duration of Information related page visits                                         1.00   \n",
       "Duration of User related page visits                                                0.23   \n",
       "Exit Rate                                                                          -0.21   \n",
       "Bounce Rate                                                                        -0.14   \n",
       "Whether or not to buy                                                               0.10   \n",
       "\n",
       "                                             Duration of User related page visits  \\\n",
       "Duration of product-related page visits                                      0.35   \n",
       "Duration of Information related page visits                                  0.23   \n",
       "Duration of User related page visits                                         1.00   \n",
       "Exit Rate                                                                   -0.10   \n",
       "Bounce Rate                                                                 -0.07   \n",
       "Whether or not to buy                                                        0.07   \n",
       "\n",
       "                                             Exit Rate  Bounce Rate  \\\n",
       "Duration of product-related page visits          -0.25        -0.18   \n",
       "Duration of Information related page visits      -0.21        -0.14   \n",
       "Duration of User related page visits             -0.10        -0.07   \n",
       "Exit Rate                                         1.00         0.91   \n",
       "Bounce Rate                                       0.91         1.00   \n",
       "Whether or not to buy                            -0.21        -0.15   \n",
       "\n",
       "                                             Whether or not to buy  \n",
       "Duration of product-related page visits                       0.14  \n",
       "Duration of Information related page visits                   0.10  \n",
       "Duration of User related page visits                          0.07  \n",
       "Exit Rate                                                    -0.21  \n",
       "Bounce Rate                                                  -0.15  \n",
       "Whether or not to buy                                         1.00  "
      ]
     },
     "execution_count": 24,
     "metadata": {},
     "output_type": "execute_result"
    }
   ],
   "source": [
    "corr"
   ]
  },
  {
   "cell_type": "code",
   "execution_count": 25,
   "id": "29b2d4ae",
   "metadata": {},
   "outputs": [
    {
     "data": {
      "text/plain": [
       "<AxesSubplot:>"
      ]
     },
     "execution_count": 25,
     "metadata": {},
     "output_type": "execute_result"
    },
    {
     "data": {
      "image/png": "[encoded data removed]",
      "text/plain": [
       "<Figure size 576x396 with 2 Axes>"
      ]
     },
     "metadata": {},
     "output_type": "display_data"
    }
   ],
   "source": [
    "sns.heatmap(corr,cmap='Blues',annot = True)"
   ]
  },
  {
   "cell_type": "markdown",
   "id": "f43bca86",
   "metadata": {},
   "source": [
    "Exit rate 和 bounce rate 相关性较高,可以考虑使用PCA"
   ]
  },
  {
   "cell_type": "markdown",
   "id": "3023471c",
   "metadata": {},
   "source": [
    "#### 对visitor type设计哑巴变量"
   ]
  },
  {
   "cell_type": "code",
   "execution_count": 29,
   "id": "3f0d8fc6",
   "metadata": {},
   "outputs": [
    {
     "name": "stdout",
     "output_type": "stream",
     "text": [
      "[[0. 0. 1.]\n",
      " [0. 0. 1.]\n",
      " [1. 0. 0.]]\n"
     ]
    }
   ],
   "source": [
    "cols = ['Visitor Type']\n",
    "model_ohe = OneHotEncoder(sparse=False)  # 建立OneHotEncode对象\n",
    "ohe_matrix = model_ohe.fit_transform(df[cols])  # 直接转换\n",
    "print(ohe_matrix[:3])"
   ]
  },
  {
   "cell_type": "code",
   "execution_count": 30,
   "id": "400e4d0f",
   "metadata": {},
   "outputs": [
    {
     "data": {
      "text/html": [
       "<div>\n",
       "<style scoped>\n",
       "    .dataframe tbody tr th:only-of-type {\n",
       "        vertical-align: middle;\n",
       "    }\n",
       "\n",
       "    .dataframe tbody tr th {\n",
       "        vertical-align: top;\n",
       "    }\n",
       "\n",
       "    .dataframe thead th {\n",
       "        text-align: right;\n",
       "    }\n",
       "</style>\n",
       "<table border=\"1\" class=\"dataframe\">\n",
       "  <thead>\n",
       "    <tr style=\"text-align: right;\">\n",
       "      <th></th>\n",
       "      <th>Visitor Type_New_Visitor</th>\n",
       "      <th>Visitor Type_Other</th>\n",
       "      <th>Visitor Type_Returning_Visitor</th>\n",
       "    </tr>\n",
       "  </thead>\n",
       "  <tbody>\n",
       "    <tr>\n",
       "      <th>0</th>\n",
       "      <td>0</td>\n",
       "      <td>0</td>\n",
       "      <td>1</td>\n",
       "    </tr>\n",
       "    <tr>\n",
       "      <th>1</th>\n",
       "      <td>0</td>\n",
       "      <td>0</td>\n",
       "      <td>1</td>\n",
       "    </tr>\n",
       "    <tr>\n",
       "      <th>2</th>\n",
       "      <td>1</td>\n",
       "      <td>0</td>\n",
       "      <td>0</td>\n",
       "    </tr>\n",
       "    <tr>\n",
       "      <th>3</th>\n",
       "      <td>0</td>\n",
       "      <td>0</td>\n",
       "      <td>1</td>\n",
       "    </tr>\n",
       "    <tr>\n",
       "      <th>4</th>\n",
       "      <td>0</td>\n",
       "      <td>0</td>\n",
       "      <td>1</td>\n",
       "    </tr>\n",
       "  </tbody>\n",
       "</table>\n",
       "</div>"
      ],
      "text/plain": [
       "   Visitor Type_New_Visitor  Visitor Type_Other  \\\n",
       "0                         0                   0   \n",
       "1                         0                   0   \n",
       "2                         1                   0   \n",
       "3                         0                   0   \n",
       "4                         0                   0   \n",
       "\n",
       "   Visitor Type_Returning_Visitor  \n",
       "0                               1  \n",
       "1                               1  \n",
       "2                               0  \n",
       "3                               1  \n",
       "4                               1  "
      ]
     },
     "execution_count": 30,
     "metadata": {},
     "output_type": "execute_result"
    }
   ],
   "source": [
    "ohe_matrix1=pd.get_dummies(df[cols])\n",
    "ohe_matrix1.head(5)"
   ]
  },
  {
   "cell_type": "code",
   "execution_count": 33,
   "id": "199d043c",
   "metadata": {},
   "outputs": [
    {
     "name": "stdout",
     "output_type": "stream",
     "text": [
      "[[0.01 0.   0.   0.11 0.05]\n",
      " [0.04 0.01 0.   0.28 0.1 ]\n",
      " [0.02 0.03 0.   0.03 0.  ]\n",
      " ...\n",
      " [0.05 0.   0.   0.19 0.09]\n",
      " [0.05 0.01 0.   0.14 0.08]\n",
      " [0.08 0.1  0.01 0.05 0.01]]\n"
     ]
    }
   ],
   "source": [
    "sacle_matrix = df.iloc[:, 1:-1]  # 获得要转换的矩阵\n",
    "model_scaler = MinMaxScaler()  \n",
    "data_scaled = model_scaler.fit_transform(sacle_matrix)  # MinMaxScaler 归一化\n",
    "print(data_scaled.round(2))"
   ]
  },
  {
   "cell_type": "code",
   "execution_count": 34,
   "id": "e0a17d3b",
   "metadata": {},
   "outputs": [],
   "source": [
    "X = np.hstack((data_scaled, ohe_matrix))"
   ]
  },
  {
   "cell_type": "code",
   "execution_count": 35,
   "id": "614d7365",
   "metadata": {},
   "outputs": [
    {
     "data": {
      "text/plain": [
       "array([[0.00870542, 0.        , 0.        , ..., 0.        , 0.        ,\n",
       "        1.        ],\n",
       "       [0.03671539, 0.01172   , 0.        , ..., 0.        , 0.        ,\n",
       "        1.        ],\n",
       "       [0.02454349, 0.02642148, 0.        , ..., 1.        , 0.        ,\n",
       "        0.        ],\n",
       "       ...,\n",
       "       [0.04749434, 0.        , 0.        , ..., 0.        , 0.        ,\n",
       "        1.        ],\n",
       "       [0.04610579, 0.0096359 , 0.00431478, ..., 0.        , 0.        ,\n",
       "        1.        ],\n",
       "       [0.07530255, 0.09832046, 0.0133366 , ..., 0.        , 0.        ,\n",
       "        1.        ]])"
      ]
     },
     "execution_count": 35,
     "metadata": {},
     "output_type": "execute_result"
    }
   ],
   "source": [
    "X"
   ]
  },
  {
   "cell_type": "code",
   "execution_count": 37,
   "id": "4756c797",
   "metadata": {},
   "outputs": [],
   "source": [
    "Y = df[\"Whether or not to buy\"]"
   ]
  },
  {
   "cell_type": "code",
   "execution_count": 38,
   "id": "a75fef67",
   "metadata": {},
   "outputs": [
    {
     "data": {
      "text/plain": [
       "0       0\n",
       "1       0\n",
       "2       0\n",
       "3       1\n",
       "4       1\n",
       "       ..\n",
       "8626    0\n",
       "8627    0\n",
       "8628    0\n",
       "8629    0\n",
       "8630    0\n",
       "Name: Whether or not to buy, Length: 8631, dtype: int64"
      ]
     },
     "execution_count": 38,
     "metadata": {},
     "output_type": "execute_result"
    }
   ],
   "source": [
    "Y"
   ]
  },
  {
   "cell_type": "markdown",
   "id": "df84435d",
   "metadata": {},
   "source": [
    "#### PCA 降维"
   ]
  },
  {
   "cell_type": "code",
   "execution_count": 39,
   "id": "adff4f9b",
   "metadata": {},
   "outputs": [
    {
     "name": "stdout",
     "output_type": "stream",
     "text": [
      "          col1      col2      col3      col4\n",
      "0    -0.176099 -0.148293 -0.002997 -0.019037\n",
      "1    -0.206280 -0.002445 -0.003063  0.047800\n",
      "2     1.230314  0.026904 -0.030427 -0.032191\n",
      "3    -0.167636 -0.194180 -0.001385 -0.012420\n",
      "4    -0.200348 -0.039777  0.001685  0.147251\n",
      "...        ...       ...       ...       ...\n",
      "8626 -0.155007 -0.252999 -0.002120 -0.051732\n",
      "8627 -0.162464 -0.218253 -0.002736 -0.065278\n",
      "8628 -0.192507 -0.069020 -0.003560  0.003149\n",
      "8629 -0.183268 -0.113542 -0.003963 -0.030984\n",
      "8630 -0.161847 -0.223795 -0.002649 -0.073805\n",
      "\n",
      "[8631 rows x 4 columns]\n"
     ]
    }
   ],
   "source": [
    "pca = PCA(n_components=4)\n",
    "pca.fit(X)\n",
    "PCA_ds = pd.DataFrame(pca.transform(X), \n",
    "                      columns=([\"col1\",\"col2\", \"col3\",\"col4\"]))\n",
    "print(PCA_ds)"
   ]
  },
  {
   "cell_type": "markdown",
   "id": "32545f4e",
   "metadata": {},
   "source": [
    "## 3.K-means 聚类"
   ]
  },
  {
   "cell_type": "code",
   "execution_count": 40,
   "id": "9466bfb0",
   "metadata": {},
   "outputs": [
    {
     "data": {
      "image/png": "[encoded data removed]",
      "text/plain": [
       "<Figure size 576x396 with 2 Axes>"
      ]
     },
     "metadata": {},
     "output_type": "display_data"
    },
    {
     "data": {
      "text/plain": [
       "<AxesSubplot:title={'center':'Distortion Score Elbow for KMeans Clustering'}, xlabel='k', ylabel='distortion score'>"
      ]
     },
     "execution_count": 40,
     "metadata": {},
     "output_type": "execute_result"
    }
   ],
   "source": [
    "#手肘法确定K值\n",
    "Elbow = KElbowVisualizer(KMeans(), k=10)\n",
    "Elbow.fit(PCA_ds)\n",
    "Elbow.show()"
   ]
  },
  {
   "cell_type": "code",
   "execution_count": 41,
   "id": "e0cf48d8",
   "metadata": {},
   "outputs": [
    {
     "name": "stdout",
     "output_type": "stream",
     "text": [
      "           Visitor Type  Duration of product-related page visits  \\\n",
      "0     Returning_Visitor                               556.916667   \n",
      "1     Returning_Visitor                              2348.812500   \n",
      "2           New_Visitor                              1570.133333   \n",
      "3     Returning_Visitor                               821.682540   \n",
      "4     Returning_Visitor                               584.377778   \n",
      "...                 ...                                      ...   \n",
      "8626  Returning_Visitor                               402.500000   \n",
      "8627  Returning_Visitor                              2110.255093   \n",
      "8628  Returning_Visitor                              3038.380000   \n",
      "8629  Returning_Visitor                              2949.550000   \n",
      "8630  Returning_Visitor                              4817.369546   \n",
      "\n",
      "      Duration of Information related page visits  \\\n",
      "0                                        0.000000   \n",
      "1                                       39.833333   \n",
      "2                                       89.800000   \n",
      "3                                      159.000000   \n",
      "4                                       38.577778   \n",
      "...                                           ...   \n",
      "8626                                    31.500000   \n",
      "8627                                   265.433333   \n",
      "8628                                     0.000000   \n",
      "8629                                    32.750000   \n",
      "8630                                   334.166667   \n",
      "\n",
      "      Duration of User related page visits  Exit Rate  Bounce Rate  \\\n",
      "0                                     0.00   0.022436     0.010256   \n",
      "1                                     0.00   0.055167     0.020000   \n",
      "2                                     0.00   0.005357     0.000000   \n",
      "3                                    27.75   0.019343     0.000617   \n",
      "4                                     9.00   0.064352     0.000000   \n",
      "...                                    ...        ...          ...   \n",
      "8626                                  0.00   0.002500     0.000000   \n",
      "8627                                 35.70   0.009762     0.003614   \n",
      "8628                                  0.00   0.038333     0.017535   \n",
      "8629                                 11.00   0.027165     0.015909   \n",
      "8630                                 34.00   0.009553     0.002685   \n",
      "\n",
      "      Whether or not to buy  clusters  \n",
      "0                         0         0  \n",
      "1                         0         0  \n",
      "2                         0         1  \n",
      "3                         1         0  \n",
      "4                         1         0  \n",
      "...                     ...       ...  \n",
      "8626                      0         0  \n",
      "8627                      0         0  \n",
      "8628                      0         0  \n",
      "8629                      0         0  \n",
      "8630                      0         0  \n",
      "\n",
      "[8631 rows x 8 columns]\n"
     ]
    }
   ],
   "source": [
    "k_means =KMeans(3).fit_predict(PCA_ds) \n",
    "k_num = k_means\n",
    "k_num_df = pd.DataFrame(k_num, columns=['clusters'])\n",
    "new_data = pd.concat((df, k_num_df), axis=1)\n",
    "print(new_data)"
   ]
  },
  {
   "cell_type": "code",
   "execution_count": 42,
   "id": "17953bec",
   "metadata": {},
   "outputs": [
    {
     "name": "stdout",
     "output_type": "stream",
     "text": [
      "<class 'pandas.core.frame.DataFrame'>\n",
      "RangeIndex: 8631 entries, 0 to 8630\n",
      "Data columns (total 8 columns):\n",
      " #   Column                                       Non-Null Count  Dtype  \n",
      "---  ------                                       --------------  -----  \n",
      " 0   Visitor Type                                 8631 non-null   object \n",
      " 1   Duration of product-related page visits      8631 non-null   float64\n",
      " 2   Duration of Information related page visits  8631 non-null   float64\n",
      " 3   Duration of User related page visits         8631 non-null   float64\n",
      " 4   Exit Rate                                    8631 non-null   float64\n",
      " 5   Bounce Rate                                  8631 non-null   float64\n",
      " 6   Whether or not to buy                        8631 non-null   int64  \n",
      " 7   clusters                                     8631 non-null   int32  \n",
      "dtypes: float64(5), int32(1), int64(1), object(1)\n",
      "memory usage: 505.8+ KB\n",
      "None\n"
     ]
    }
   ],
   "source": [
    "print(new_data.info())"
   ]
  },
  {
   "cell_type": "markdown",
   "id": "0c68dc04",
   "metadata": {},
   "source": [
    "## 4, 分析报告"
   ]
  },
  {
   "cell_type": "markdown",
   "id": "b52c5dd0",
   "metadata": {},
   "source": [
    "### 1 Clustering数量分布"
   ]
  },
  {
   "cell_type": "code",
   "execution_count": 43,
   "id": "3a00aa8a",
   "metadata": {},
   "outputs": [
    {
     "data": {
      "image/png": "[encoded data removed]",
      "text/plain": [
       "<Figure size 576x396 with 1 Axes>"
      ]
     },
     "metadata": {},
     "output_type": "display_data"
    }
   ],
   "source": [
    "pal = [\"#682F2F\",\"#B9C0C9\", \"#9F8A78\",\"#F3AB60\"]\n",
    "pl = sns.countplot(x=new_data[\"clusters\"], palette= pal)\n",
    "pl.set_title(\"Distribution Of The Clusters\")\n",
    "plt.show()"
   ]
  },
  {
   "cell_type": "markdown",
   "id": "c4419485",
   "metadata": {},
   "source": [
    "### 2 不同clustering购买成功率"
   ]
  },
  {
   "cell_type": "code",
   "execution_count": 49,
   "id": "5d1a7dbf",
   "metadata": {},
   "outputs": [
    {
     "data": {
      "image/png": "[encoded data removed]",
      "text/plain": [
       "<Figure size 576x396 with 1 Axes>"
      ]
     },
     "metadata": {},
     "output_type": "display_data"
    }
   ],
   "source": [
    "df_cost=pd.DataFrame(new_data['Whether or not to buy'].groupby(new_data[\"clusters\"]).mean())\n",
    "data={\"clusters\":[0,1,2]}\n",
    "df_cost2=pd.DataFrame(data)\n",
    "dt_c=pd.concat((df_cost, df_cost2), axis=1)\n",
    "g=sns.barplot(x=\"clusters\", y='Whether or not to buy', data=dt_c,palette= pal)\n",
    "#添加数值\n",
    "for index,row in dt_c.iterrows():\n",
    "    g.text(row.clusters,row['Whether or not to buy'],row['Whether or not to buy'],ha=\"center\")"
   ]
  },
  {
   "cell_type": "markdown",
   "id": "70ce5ed4",
   "metadata": {},
   "source": [
    "### 3 不同clusteirng visitor type分布情况"
   ]
  },
  {
   "cell_type": "code",
   "execution_count": 84,
   "id": "1e99df90",
   "metadata": {},
   "outputs": [
    {
     "data": {
      "text/plain": [
       "<AxesSubplot:xlabel='Visitor Type'>"
      ]
     },
     "execution_count": 84,
     "metadata": {},
     "output_type": "execute_result"
    },
    {
     "data": {
      "image/png": "[encoded data removed]",
      "text/plain": [
       "<Figure size 576x396 with 1 Axes>"
      ]
     },
     "metadata": {},
     "output_type": "display_data"
    }
   ],
   "source": [
    "new_data[new_data['clusters'] == 0].groupby('Visitor Type')['Visitor Type'].count().plot(kind = 'bar')"
   ]
  },
  {
   "cell_type": "code",
   "execution_count": 85,
   "id": "62c9956e",
   "metadata": {},
   "outputs": [
    {
     "data": {
      "text/plain": [
       "<AxesSubplot:xlabel='Visitor Type'>"
      ]
     },
     "execution_count": 85,
     "metadata": {},
     "output_type": "execute_result"
    },
    {
     "data": {
      "image/png": "[encoded data removed]",
      "text/plain": [
       "<Figure size 576x396 with 1 Axes>"
      ]
     },
     "metadata": {},
     "output_type": "display_data"
    }
   ],
   "source": [
    "new_data[new_data['clusters'] == 1].groupby('Visitor Type')['Visitor Type'].count().plot(kind = 'bar')"
   ]
  },
  {
   "cell_type": "code",
   "execution_count": 86,
   "id": "b8daa677",
   "metadata": {},
   "outputs": [
    {
     "data": {
      "text/plain": [
       "<AxesSubplot:xlabel='Visitor Type'>"
      ]
     },
     "execution_count": 86,
     "metadata": {},
     "output_type": "execute_result"
    },
    {
     "data": {
      "image/png": "[encoded data removed]",
      "text/plain": [
       "<Figure size 576x396 with 1 Axes>"
      ]
     },
     "metadata": {},
     "output_type": "display_data"
    }
   ],
   "source": [
    "new_data[new_data['clusters'] == 2].groupby('Visitor Type')['Visitor Type'].count().plot(kind = 'bar')"
   ]
  },
  {
   "cell_type": "markdown",
   "id": "60c50924",
   "metadata": {},
   "source": [
    "### 4 不同clusteirng Duration of product-related page visit 均值"
   ]
  },
  {
   "cell_type": "code",
   "execution_count": 71,
   "id": "8bb4cf2c",
   "metadata": {},
   "outputs": [
    {
     "data": {
      "image/png": "[encoded data removed]",
      "text/plain": [
       "<Figure size 576x396 with 1 Axes>"
      ]
     },
     "metadata": {},
     "output_type": "display_data"
    }
   ],
   "source": [
    "df_cost=pd.DataFrame(new_data['Duration of product-related page visits'].groupby(new_data[\"clusters\"]).mean())\n",
    "data={\"clusters\":[0,1,2]}\n",
    "df_cost2=pd.DataFrame(data)\n",
    "dt_c=pd.concat((df_cost, df_cost2), axis=1)\n",
    "g=sns.barplot(x=\"clusters\", y='Duration of product-related page visits', data=dt_c,palette= pal)\n",
    "#添加数值\n",
    "for index,row in dt_c.iterrows():\n",
    "    g.text(row.clusters,row['Duration of product-related page visits'],row['Duration of product-related page visits'],ha=\"center\")"
   ]
  },
  {
   "cell_type": "markdown",
   "id": "5607e394",
   "metadata": {},
   "source": [
    "### 5 不同clusteirng Duration of Information related page visits 均值"
   ]
  },
  {
   "cell_type": "code",
   "execution_count": 72,
   "id": "7ececb79",
   "metadata": {},
   "outputs": [
    {
     "data": {
      "image/png": "[encoded data removed]",
      "text/plain": [
       "<Figure size 576x396 with 1 Axes>"
      ]
     },
     "metadata": {},
     "output_type": "display_data"
    }
   ],
   "source": [
    "df_cost=pd.DataFrame(new_data['Duration of Information related page visits'].groupby(new_data[\"clusters\"]).mean())\n",
    "data={\"clusters\":[0,1,2]}\n",
    "df_cost2=pd.DataFrame(data)\n",
    "dt_c=pd.concat((df_cost, df_cost2), axis=1)\n",
    "g=sns.barplot(x=\"clusters\", y='Duration of Information related page visits', data=dt_c,palette= pal)\n",
    "#添加数值\n",
    "for index,row in dt_c.iterrows():\n",
    "    g.text(row.clusters,row['Duration of Information related page visits'],row['Duration of Information related page visits'],ha=\"center\")"
   ]
  },
  {
   "cell_type": "markdown",
   "id": "ba65cb4f",
   "metadata": {},
   "source": [
    "### 6 不同clusteirng Duration of User related page visits 均值"
   ]
  },
  {
   "cell_type": "code",
   "execution_count": 73,
   "id": "7f0f70ad",
   "metadata": {},
   "outputs": [
    {
     "data": {
      "image/png": "[encoded data removed]",
      "text/plain": [
       "<Figure size 576x396 with 1 Axes>"
      ]
     },
     "metadata": {},
     "output_type": "display_data"
    }
   ],
   "source": [
    "df_cost=pd.DataFrame(new_data['Duration of User related page visits'].groupby(new_data[\"clusters\"]).mean())\n",
    "data={\"clusters\":[0,1,2]}\n",
    "df_cost2=pd.DataFrame(data)\n",
    "dt_c=pd.concat((df_cost, df_cost2), axis=1)\n",
    "g=sns.barplot(x=\"clusters\", y='Duration of User related page visits', data=dt_c,palette= pal)\n",
    "#添加数值\n",
    "for index,row in dt_c.iterrows():\n",
    "    g.text(row.clusters,row['Duration of User related page visits'],row['Duration of User related page visits'],ha=\"center\")"
   ]
  },
  {
   "cell_type": "markdown",
   "id": "ca49f43d",
   "metadata": {},
   "source": [
    "### 7 不同clusteirng Exit Rate 均值"
   ]
  },
  {
   "cell_type": "code",
   "execution_count": 74,
   "id": "88995bb4",
   "metadata": {},
   "outputs": [
    {
     "data": {
      "image/png": "[encoded data removed]",
      "text/plain": [
       "<Figure size 576x396 with 1 Axes>"
      ]
     },
     "metadata": {},
     "output_type": "display_data"
    }
   ],
   "source": [
    "df_cost=pd.DataFrame(new_data['Exit Rate'].groupby(new_data[\"clusters\"]).mean())\n",
    "data={\"clusters\":[0,1,2]}\n",
    "df_cost2=pd.DataFrame(data)\n",
    "dt_c=pd.concat((df_cost, df_cost2), axis=1)\n",
    "g=sns.barplot(x=\"clusters\", y='Exit Rate', data=dt_c,palette= pal)\n",
    "#添加数值\n",
    "for index,row in dt_c.iterrows():\n",
    "    g.text(row.clusters,row['Exit Rate'],row['Exit Rate'],ha=\"center\")"
   ]
  },
  {
   "cell_type": "markdown",
   "id": "56b298ee",
   "metadata": {},
   "source": [
    "### 8 不同clusteirng Bounce Rate 均值"
   ]
  },
  {
   "cell_type": "code",
   "execution_count": 76,
   "id": "89391a36",
   "metadata": {},
   "outputs": [
    {
     "data": {
      "image/png": "[encoded data removed]",
      "text/plain": [
       "<Figure size 576x396 with 1 Axes>"
      ]
     },
     "metadata": {},
     "output_type": "display_data"
    }
   ],
   "source": [
    "df_cost=pd.DataFrame(new_data['Bounce Rate'].groupby(new_data[\"clusters\"]).mean())\n",
    "data={\"clusters\":[0,1,2]}\n",
    "df_cost2=pd.DataFrame(data)\n",
    "dt_c=pd.concat((df_cost, df_cost2), axis=1)\n",
    "g=sns.barplot(x=\"clusters\", y='Bounce Rate', data=dt_c,palette= pal)\n",
    "#添加数值\n",
    "for index,row in dt_c.iterrows():\n",
    "    g.text(row.clusters,row['Bounce Rate'],row['Bounce Rate'],ha=\"center\")"
   ]
  },
  {
   "cell_type": "markdown",
   "id": "d8e94395",
   "metadata": {},
   "source": [
    "## 5, Clustering Summary"
   ]
  },
  {
   "cell_type": "code",
   "execution_count": 82,
   "id": "a7f46ee2",
   "metadata": {},
   "outputs": [],
   "source": [
    "d = {\n",
    "     'New_Visitor_number': [0,1203,0],\n",
    "     'Returning_Visitor_number': [6767,0,602],\n",
    "     'Other_Visitor_number': [0,46,13],\n",
    "     'Mean of Duration of product-related page visit': [1378.40,648.12,50.44],\n",
    "     'Mean of Duration of Information related page visits': [87.67,90.91,0.84],\n",
    "     'Mean of Duration of User related page visits':[39.14,18.68,0.06],\n",
    "     'Mean of Exit Rate':[0.03382,0.02070,0.1863],\n",
    "     'Mean of Bounce Rate':[0.01081,0.004492,0.1785],\n",
    "     'Success Rate':[0.1525,0.2426,0.001626]\n",
    "     }"
   ]
  },
  {
   "cell_type": "code",
   "execution_count": 83,
   "id": "f760d8e0",
   "metadata": {},
   "outputs": [
    {
     "data": {
      "text/html": [
       "<div>\n",
       "<style scoped>\n",
       "    .dataframe tbody tr th:only-of-type {\n",
       "        vertical-align: middle;\n",
       "    }\n",
       "\n",
       "    .dataframe tbody tr th {\n",
       "        vertical-align: top;\n",
       "    }\n",
       "\n",
       "    .dataframe thead th {\n",
       "        text-align: right;\n",
       "    }\n",
       "</style>\n",
       "<table border=\"1\" class=\"dataframe\">\n",
       "  <thead>\n",
       "    <tr style=\"text-align: right;\">\n",
       "      <th></th>\n",
       "      <th>New_Visitor_number</th>\n",
       "      <th>Returning_Visitor_number</th>\n",
       "      <th>Other_Visitor_number</th>\n",
       "      <th>Mean of Duration of product-related page visit</th>\n",
       "      <th>Mean of Duration of Information related page visits</th>\n",
       "      <th>Mean of Duration of User related page visits</th>\n",
       "      <th>Mean of Exit Rate</th>\n",
       "      <th>Mean of Bounce Rate</th>\n",
       "      <th>Success Rate</th>\n",
       "    </tr>\n",
       "  </thead>\n",
       "  <tbody>\n",
       "    <tr>\n",
       "      <th>0</th>\n",
       "      <td>0</td>\n",
       "      <td>6767</td>\n",
       "      <td>0</td>\n",
       "      <td>1378.40</td>\n",
       "      <td>87.67</td>\n",
       "      <td>39.14</td>\n",
       "      <td>0.03382</td>\n",
       "      <td>0.010810</td>\n",
       "      <td>0.152500</td>\n",
       "    </tr>\n",
       "    <tr>\n",
       "      <th>1</th>\n",
       "      <td>1203</td>\n",
       "      <td>0</td>\n",
       "      <td>46</td>\n",
       "      <td>648.12</td>\n",
       "      <td>90.91</td>\n",
       "      <td>18.68</td>\n",
       "      <td>0.02070</td>\n",
       "      <td>0.004492</td>\n",
       "      <td>0.242600</td>\n",
       "    </tr>\n",
       "    <tr>\n",
       "      <th>2</th>\n",
       "      <td>0</td>\n",
       "      <td>602</td>\n",
       "      <td>13</td>\n",
       "      <td>50.44</td>\n",
       "      <td>0.84</td>\n",
       "      <td>0.06</td>\n",
       "      <td>0.18630</td>\n",
       "      <td>0.178500</td>\n",
       "      <td>0.001626</td>\n",
       "    </tr>\n",
       "  </tbody>\n",
       "</table>\n",
       "</div>"
      ],
      "text/plain": [
       "   New_Visitor_number  Returning_Visitor_number  Other_Visitor_number  \\\n",
       "0                   0                      6767                     0   \n",
       "1                1203                         0                    46   \n",
       "2                   0                       602                    13   \n",
       "\n",
       "   Mean of Duration of product-related page visit  \\\n",
       "0                                         1378.40   \n",
       "1                                          648.12   \n",
       "2                                           50.44   \n",
       "\n",
       "   Mean of Duration of Information related page visits  \\\n",
       "0                                              87.67     \n",
       "1                                              90.91     \n",
       "2                                               0.84     \n",
       "\n",
       "   Mean of Duration of User related page visits  Mean of Exit Rate  \\\n",
       "0                                         39.14            0.03382   \n",
       "1                                         18.68            0.02070   \n",
       "2                                          0.06            0.18630   \n",
       "\n",
       "   Mean of Bounce Rate  Success Rate  \n",
       "0             0.010810      0.152500  \n",
       "1             0.004492      0.242600  \n",
       "2             0.178500      0.001626  "
      ]
     },
     "execution_count": 83,
     "metadata": {},
     "output_type": "execute_result"
    }
   ],
   "source": [
    "pd.DataFrame(d)"
   ]
  },
  {
   "cell_type": "markdown",
   "id": "cde06e95",
   "metadata": {},
   "source": [
    "Summary on each group: "
   ]
  },
  {
   "cell_type": "markdown",
   "id": "363f491e",
   "metadata": {},
   "source": [
    "Group 0\n",
    "make up by the majority of returning visitors: high duration of product-related page visit, high duration of user realted page visits, 15% chance of purchasing"
   ]
  },
  {
   "cell_type": "markdown",
   "id": "28a5de12",
   "metadata": {},
   "source": [
    "Group1 make up by new visitors : moderate duration of product-related page visit, moderate duration of user related page visits, 24% chance of purchasing"
   ]
  },
  {
   "cell_type": "markdown",
   "id": "772da5d8",
   "metadata": {},
   "source": [
    "Group2 make up by roughly 10% of the returning visitor: low duration in any page visits, high rate of exit and bounce. roughly 0.16% chance of purchasing"
   ]
  }
 ],
 "metadata": {
  "kernelspec": {
   "display_name": "Python 3 (ipykernel)",
   "language": "python",
   "name": "python3"
  },
  "language_info": {
   "codemirror_mode": {
    "name": "ipython",
    "version": 3
   },
   "file_extension": ".py",
   "mimetype": "text/x-python",
   "name": "python",
   "nbconvert_exporter": "python",
   "pygments_lexer": "ipython3",
   "version": "3.9.7"
  }
 },
 "nbformat": 4,
 "nbformat_minor": 5
}
